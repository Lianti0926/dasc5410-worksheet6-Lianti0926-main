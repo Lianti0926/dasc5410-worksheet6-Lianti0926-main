{
 "cells": [
  {
   "cell_type": "markdown",
   "metadata": {},
   "source": [
    "# Worksheet 6: Introduction to noSQL databases and document model with MongoDB"
   ]
  },
  {
   "cell_type": "markdown",
   "metadata": {},
   "source": [
    "## Exercise 1: Recap concepts in non-relational database\n",
    "\n",
    "{rubric: accuracy = 5}\n",
    "\n"
   ]
  },
  {
   "cell_type": "markdown",
   "metadata": {},
   "source": [
    "\n",
    "1. **What is a key difference between relational and non-relational databases?**\n",
    "   - A) Relational databases use a flexible schema, while non-relational databases use a fixed schema.\n",
    "   - B) Relational databases use SQL for queries, while non-relational databases use various query languages.\n",
    "   - C) Non-relational databases are always faster than relational databases.\n",
    "   - D) Relational databases do not support ACID properties, while non-relational databases do.\n"
   ]
  },
  {
   "cell_type": "markdown",
   "metadata": {},
   "source": [
    "My Answer is B\n",
    "> YOUR ANSWER HERE\n"
   ]
  },
  {
   "cell_type": "markdown",
   "metadata": {},
   "source": [
    "2. **Which of the following is a disadvantage of using a relational database?**\n",
    "   - A) They are not suitable for complex queries.\n",
    "   - B) They require a fixed schema.\n",
    "   - C) They do not support transactions.\n",
    "   - D) They cannot handle large volumes of data.\n",
    "  \n"
   ]
  },
  {
   "cell_type": "markdown",
   "metadata": {},
   "source": [
    "  > YOUR ANSWER HERE\n",
    "  My answer is still B cause other options like ACD,relational data base can also do that"
   ]
  },
  {
   "cell_type": "markdown",
   "metadata": {},
   "source": [
    "3. **Which type of non-relational database is best suited for hierarchical & networked data storage?**\n",
    "   - A) Column-based\n",
    "   - B) Key-value\n",
    "   - C) Graph\n",
    "   - D) Document\n"
   ]
  },
  {
   "cell_type": "markdown",
   "metadata": {},
   "source": [
    "My answer is C\n",
    "> YOUR ANSWER HERE"
   ]
  },
  {
   "cell_type": "markdown",
   "metadata": {},
   "source": [
    "If this doesn't work, you should install `pymongo` in your conda environment by typing `!pip install pymongo` in a new code cell"
   ]
  },
  {
   "cell_type": "markdown",
   "metadata": {},
   "source": [
    "In this exercise, we will create a free cluster on mongoDB Atlas and load sample datasets. \n",
    "\n",
    "### 2.1 Set up your MongoDB Atlas cluster\n",
    "\n",
    "{rubric: completion = 5}\n",
    "\n",
    "Please follow the steps below to create your free cluster on MongoDB Atlas:\n",
    "\n",
    "1. Navigate to https://www.mongodb.com/cloud/atlas/register and sign up a free account with your email\n",
    "2. Open your email and verify the account\n",
    "3. Log in to your MongoDB account and create a free cluster, make sure to have the following configurations:\n",
    "    - Check the M0 tier\n",
    "    - Uncheck the 'Preload sample dataset' option\n",
    "![](img/mongodb1.png)\n"
   ]
  },
  {
   "cell_type": "markdown",
   "metadata": {},
   "source": [
    "4. Click `Create Deployment`\n",
    "5. It's going to pop up a screen to Connect to Cluster():\n",
    "    - Now you will need to add the first user to this database, choose an `username` and `password` that you can easily remember. \n",
    "    - Click choose a connection method\n",
    "![](img/mongodb2.png)\n",
    "    - Choose Drivers\n",
    "    - Note down your host information. It should look something like `cluster0.xxxx.mongodb.net`\n",
    "![](img/mongodb3.png)\n",
    "6. Now open your `credientials.json` file in worksheet6 repo and fill in the username, password, and host information. Save the file.\n",
    "7. Once the cluster has been created:\n",
    "   - Click `Database` on the left tab\n",
    "   - Click the triple dot `... button`\n",
    "   - Select `Load Sample Dataset`\n",
    "![](img/mongodb4.png)"
   ]
  },
  {
   "cell_type": "markdown",
   "metadata": {},
   "source": [
    "### 2.2 \n",
    "\n",
    "{rubric: accuracy = 5}\n",
    "\n",
    "After loading the data, open the `sample_restaurant` database and answer the following questions:\n",
    "\n",
    "- How many collections are present in the `sample_restaurant` database?\n",
    "- List the number of documents and the storage size of each collection in the `sample_restaurant` database\n"
   ]
  },
  {
   "cell_type": "markdown",
   "metadata": {},
   "source": [
    "Hints: You can read more about the documentation of `sample_restaurant` database here https://www.mongodb.com/docs/atlas/sample-data/sample-restaurants/"
   ]
  },
  {
   "cell_type": "markdown",
   "metadata": {},
   "source": [
    "### 2.3\n",
    "\n",
    "{rubric: accuracy = 5}\n",
    "\n",
    "Open the `restaurants` collection. Filter for this ObjectId \n",
    "\n",
    "> {_id: ObjectId('5eb3d668b31de5d588f4292c')}\n",
    "\n",
    "Answer following questions:\n",
    "\n",
    "- What are the coordinates of that restaurant?\n",
    "It is Array (2)\n",
    "- Which borough does this restaurant locate in?\n",
    "It is \"Staten Island\"\n",
    "- How many reviews did this restaurant get?\n",
    "There is 45 reviews\n",
    "- What is the lowest rating score?\n",
    "It is 9\n",
    "- What is the highest rating score?\n",
    "It is 12"
   ]
  },
  {
   "cell_type": "markdown",
   "metadata": {},
   "source": [
    "## Exercise 3: Connect to your mongoDB using pymongo"
   ]
  },
  {
   "cell_type": "markdown",
   "metadata": {},
   "source": [
    "What you need:\n",
    "- The host URL of your mongoDB connection (should look something like `cluster0.lqirl.mongodb.net`)\n",
    "- Your mongoDB username\n",
    "- Your mongoDB password"
   ]
  },
  {
   "cell_type": "markdown",
   "metadata": {},
   "source": [
    "Modify the `credentials.json` file with appropriate information above."
   ]
  },
  {
   "cell_type": "markdown",
   "metadata": {},
   "source": [
    "Below is the starter code to connect to your MongoDB database, provided that you have a `credentials.json` file with the correct information."
   ]
  },
  {
   "cell_type": "code",
   "execution_count": 1,
   "metadata": {},
   "outputs": [],
   "source": [
    "from pymongo import MongoClient # import mongo client to connect\n",
    "import json # import json to load credentials\n",
    "import urllib.parse\n",
    "\n",
    "# load credentials from json file\n",
    "with open('credentials.json') as f:\n",
    "    login = json.load(f)\n",
    "\n",
    "# assign credentials to variables\n",
    "username = login['username']\n",
    "password = urllib.parse.quote(login['password'])\n",
    "host = login['host']\n",
    "url = \"mongodb+srv://{}:{}@{}/?retryWrites=true&w=majority\".format(username, password, host)"
   ]
  },
  {
   "cell_type": "code",
   "execution_count": 2,
   "metadata": {},
   "outputs": [],
   "source": [
    "# connect to the database\n",
    "client = MongoClient(url)"
   ]
  },
  {
   "cell_type": "markdown",
   "metadata": {},
   "source": [
    "### 3.1 \n",
    "\n",
    "{rubric: accuracy = 5}\n",
    "\n",
    "Write code to list all databases in the client server\n",
    "\n",
    "Hint: See the lecture 12 for example"
   ]
  },
  {
   "cell_type": "code",
   "execution_count": 3,
   "metadata": {},
   "outputs": [
    {
     "name": "stdout",
     "output_type": "stream",
     "text": [
      "sample_airbnb\n",
      "sample_geospatial\n",
      "sample_mflix\n",
      "sample_restaurants\n",
      "sample_supplies\n",
      "sample_weatherdata\n",
      "admin\n",
      "local\n"
     ]
    }
   ],
   "source": [
    "# list all databases\n",
    "for db_info in client.list_database_names():\n",
    "   print(db_info)"
   ]
  },
  {
   "cell_type": "markdown",
   "metadata": {},
   "source": [
    "### 3.2 \n",
    "\n",
    "{rubric: accuracy = 5}\n",
    "\n",
    "Write code to list all collections in the sample_restaurants database\n",
    "\n",
    "Hint: See the lecture 12 for example"
   ]
  },
  {
   "cell_type": "code",
   "execution_count": 4,
   "metadata": {},
   "outputs": [
    {
     "name": "stdout",
     "output_type": "stream",
     "text": [
      "restaurants\n",
      "neighborhoods\n"
     ]
    }
   ],
   "source": [
    "db = client['sample_restaurants']\n",
    "\n",
    "# List all collections\n",
    "collections = db.list_collection_names()\n",
    "for collection in collections:\n",
    "    # Print the collections\n",
    "    print(collection)\n"
   ]
  },
  {
   "cell_type": "markdown",
   "metadata": {},
   "source": [
    "### 3.3 \n",
    "\n",
    "{rubric: accuracy = 5}\n",
    "\n",
    "Display the first document in the restaurants collection in the sample_restaurants database\n",
    "\n",
    "Hint: See the lecture 12 for example"
   ]
  },
  {
   "cell_type": "code",
   "execution_count": 5,
   "metadata": {},
   "outputs": [
    {
     "name": "stdout",
     "output_type": "stream",
     "text": [
      "{'_id': ObjectId('5eb3d668b31de5d588f4292a'), 'address': {'building': '2780', 'coord': [-73.98241999999999, 40.579505], 'street': 'Stillwell Avenue', 'zipcode': '11224'}, 'borough': 'Brooklyn', 'cuisine': 'American', 'grades': [{'date': datetime.datetime(2014, 6, 10, 0, 0), 'grade': 'A', 'score': 5}, {'date': datetime.datetime(2013, 6, 5, 0, 0), 'grade': 'A', 'score': 7}, {'date': datetime.datetime(2012, 4, 13, 0, 0), 'grade': 'A', 'score': 12}, {'date': datetime.datetime(2011, 10, 12, 0, 0), 'grade': 'A', 'score': 12}], 'name': 'Riviera Caterer', 'restaurant_id': '40356018'}\n"
     ]
    }
   ],
   "source": [
    "# show the first document\n",
    "db = client['sample_restaurants']\n",
    "\n",
    "# Access the restaurants collection\n",
    "restaurants_collection = db['restaurants']\n",
    "\n",
    "# Retrieve and display the first document in the collection\n",
    "first_document = restaurants_collection.find_one()\n",
    "\n",
    "# Print the first document\n",
    "print(first_document)"
   ]
  },
  {
   "cell_type": "markdown",
   "metadata": {},
   "source": [
    "## Submission instructions\n",
    "\n",
    "{rubric: mechanics = 5}\n",
    "\n",
    "- Make sure the notebook can run from top to bottom without any error. Restart the kernel and run all cells.\n",
    "- Commit and push your notebook to the github repo\n",
    "- Double check your notebook is rendered properly on Github and you can see all the outputs clearly"
   ]
  }
 ],
 "metadata": {
  "kernelspec": {
   "display_name": "dasc_5410",
   "language": "python",
   "name": "python3"
  },
  "language_info": {
   "codemirror_mode": {
    "name": "ipython",
    "version": 3
   },
   "file_extension": ".py",
   "mimetype": "text/x-python",
   "name": "python",
   "nbconvert_exporter": "python",
   "pygments_lexer": "ipython3",
   "version": "3.11.10"
  },
  "otter": {
   "OK_FORMAT": true,
   "tests": {
    "q1": {
     "name": "q1",
     "points": 1,
     "suites": [
      {
       "cases": [
        {
         "code": ">>> assert sum(1, 2) == 3, 'Your function is not implemented correctly'\n",
         "hidden": false,
         "locked": false
        }
       ],
       "scored": true,
       "setup": "",
       "teardown": "",
       "type": "doctest"
      }
     ]
    }
   }
  }
 },
 "nbformat": 4,
 "nbformat_minor": 2
}
